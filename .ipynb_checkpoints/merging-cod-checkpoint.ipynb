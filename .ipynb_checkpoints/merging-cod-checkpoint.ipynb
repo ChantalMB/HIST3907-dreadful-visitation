{
 "cells": [
  {
   "cell_type": "code",
   "execution_count": null,
   "id": "99e4eb46",
   "metadata": {},
   "outputs": [],
   "source": [
    "!pip install pandas"
   ]
  },
  {
   "cell_type": "code",
   "execution_count": null,
   "id": "4ea5af65",
   "metadata": {},
   "outputs": [],
   "source": [
    "import pandas as pd\n",
    "import glob\n",
    "\n",
    "pd.set_option('display.max_rows', 500)\n",
    "pd.set_option('display.max_columns', 500)\n",
    "# pd.set_option('display.width', 1000)\n",
    "\n",
    "path = r'/Users/homebase/Desktop/HIST3907/final-project/data/cause-of-death' # use your path\n",
    "all_files = glob.glob(path + \"/*.csv\")\n",
    "all_files = sorted(all_files)\n",
    "\n",
    "filelist = []\n",
    "\n",
    "for filename in all_files:\n",
    "    df = pd.read_csv(filename, index_col=None, header=0)\n",
    "    filelist.append(df)\n",
    "    \n",
    "len(filelist)\n",
    "\n",
    "mergedcauseofdf = pd.DataFrame()\n",
    "\n",
    "for i in range(len(filelist)-1):\n",
    "    if i == 0:\n",
    "        df1 = filelist[i]\n",
    "        df2 = filelist[i + 1] \n",
    "    else:\n",
    "        df1 = mergedcauseofdf \n",
    "        df2 = filelist[i + 1]\n",
    "        \n",
    "    mergedcauseofdf = pd.merge(df1, df2, how='outer', on='0', suffixes=('_'+ str(i), '_'+ str(i+1)))\n",
    "\n",
    "mergedcauseofdf"
   ]
  },
  {
   "cell_type": "code",
   "execution_count": null,
   "id": "78d63170",
   "metadata": {},
   "outputs": [],
   "source": [
    "mergedcauseofdf.to_csv(r'/Users/homebase/Desktop/HIST3907/final-project/cleaned-data/causes-of-death.csv', index = False)"
   ]
  }
 ],
 "metadata": {
  "kernelspec": {
   "display_name": "Python 3",
   "language": "python",
   "name": "python3"
  },
  "language_info": {
   "codemirror_mode": {
    "name": "ipython",
    "version": 3
   },
   "file_extension": ".py",
   "mimetype": "text/x-python",
   "name": "python",
   "nbconvert_exporter": "python",
   "pygments_lexer": "ipython3",
   "version": "3.8.5"
  }
 },
 "nbformat": 4,
 "nbformat_minor": 5
}
