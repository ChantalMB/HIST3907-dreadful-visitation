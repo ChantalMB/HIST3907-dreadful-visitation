{
 "cells": [
  {
   "cell_type": "code",
   "execution_count": null,
   "id": "general-devil",
   "metadata": {},
   "outputs": [],
   "source": [
    "%pip install beautifulsoup4\n",
    "%pip install pandas\n",
    "%pip install html5lib"
   ]
  },
  {
   "cell_type": "code",
   "execution_count": null,
   "id": "surface-prime",
   "metadata": {},
   "outputs": [],
   "source": [
    "import pandas as pd\n",
    "from bs4 import BeautifulSoup\n",
    "\n",
    "count = 0\n",
    "week = 0\n",
    "\n",
    "for i, df in enumerate(pd.read_html('billsofmortality-umich.html', flavor='bs4')):\n",
    "    # all this to literally just to name the files...\n",
    "    fileName = None\n",
    "    if count < 3:\n",
    "        fileName = \"week\" + str(week) + \"-\" + str(count)\n",
    "        count += 1\n",
    "    elif count == 3:\n",
    "        week += 1\n",
    "        count = 0\n",
    "        fileName = \"week\" + str(week) + \"-\" + str(count)\n",
    "        count += 1    \n",
    "    \n",
    "    df.to_csv(fileName + '.csv')"
   ]
  }
 ],
 "metadata": {
  "kernelspec": {
   "display_name": "Python 3",
   "language": "python",
   "name": "python3"
  },
  "language_info": {
   "codemirror_mode": {
    "name": "ipython",
    "version": 3
   },
   "file_extension": ".py",
   "mimetype": "text/x-python",
   "name": "python",
   "nbconvert_exporter": "python",
   "pygments_lexer": "ipython3",
   "version": "3.9.1"
  }
 },
 "nbformat": 4,
 "nbformat_minor": 5
}
