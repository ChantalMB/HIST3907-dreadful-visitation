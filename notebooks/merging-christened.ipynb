{
 "cells": [
  {
   "cell_type": "code",
   "execution_count": null,
   "id": "42170747",
   "metadata": {},
   "outputs": [],
   "source": [
    "!pip3 install pandas\n",
    "!pip3 install numpy"
   ]
  },
  {
   "cell_type": "code",
   "execution_count": null,
   "id": "9362d9b4",
   "metadata": {},
   "outputs": [],
   "source": [
    "import pandas as pd\n",
    "import numpy as np\n",
    "import glob\n",
    "\n",
    "pd.set_option('display.max_rows', 500)\n",
    "pd.set_option('display.max_columns', 5000)\n",
    "# pd.set_option('display.width', 1000)\n",
    "\n",
    "# load all files into list\n",
    "path = r'/Users/homebase/Desktop/HIST3907/final-project/data/christened' # use your path\n",
    "all_files = glob.glob(path + \"/*.csv\")\n",
    "all_files = sorted(all_files)\n",
    "\n",
    "filelist = []\n",
    "\n",
    "for filename in all_files:\n",
    "    df = pd.read_csv(filename, index_col=None, header=0)\n",
    "    filelist.append(df)\n",
    "\n",
    "# make sex 1 column, christened 1 column, buried last column \n",
    "filelist"
   ]
  },
  {
   "cell_type": "code",
   "execution_count": null,
   "id": "eefa76db",
   "metadata": {},
   "outputs": [],
   "source": [
    "structure1 = {'sex': ['Females','Males','In all']}\n",
    "\n",
    "structure2 = {'sex': ['Females','Males','In all', 'Plague']}\n",
    "\n",
    "listofchrs = []\n",
    "\n",
    "for i in range(len(filelist)):\n",
    "    chrsdata = pd.DataFrame(structure1, columns=['sex','christened'])\n",
    "    \n",
    "    chrsdata['christened'][0] = filelist[i]['1'][1]\n",
    "    chrsdata['christened'][1] = filelist[i]['2'][0]\n",
    "    chrsdata['christened'][2] = filelist[i]['1'][2]\n",
    "    \n",
    "    listofchrs.append(chrsdata)\n",
    "    \n",
    "listofbur = []\n",
    "\n",
    "for i in range(len(filelist)):\n",
    "    burdata = pd.DataFrame(structure2, columns=['sex','buried'])\n",
    "    \n",
    "    burdata['buried'][0] = filelist[i]['3'][1]\n",
    "    burdata['buried'][1] = filelist[i]['5'][0]\n",
    "    burdata['buried'][2] = filelist[i]['3'][2]\n",
    "    burdata['buried'][3] = filelist[i]['7'][0]\n",
    "\n",
    "    \n",
    "    listofbur.append(burdata)"
   ]
  },
  {
   "cell_type": "code",
   "execution_count": null,
   "id": "973d2541",
   "metadata": {},
   "outputs": [],
   "source": [
    "mergedchrs = pd.DataFrame()\n",
    "\n",
    "for i in range(len(listofchrs)-1):\n",
    "    if i == 0:\n",
    "        df1 = listofchrs[i]\n",
    "        df2 = listofchrs[i + 1] \n",
    "    else:\n",
    "        df1 = mergedchrs \n",
    "        df2 = listofchrs[i + 1]\n",
    "        \n",
    "    mergedchrs = pd.merge(df1, df2, how='outer', on='sex', suffixes=('_'+ str(i), '_'+ str(i+1)))\n",
    "\n",
    "mergedchrs"
   ]
  },
  {
   "cell_type": "code",
   "execution_count": null,
   "id": "8fb50f4f",
   "metadata": {},
   "outputs": [],
   "source": [
    "mergedbur = pd.DataFrame()\n",
    "\n",
    "for i in range(len(listofbur)-1):\n",
    "    if i == 0:\n",
    "        df1 = listofbur[i]\n",
    "        df2 = listofbur[i + 1] \n",
    "    else:\n",
    "        df1 = mergedbur \n",
    "        df2 = listofbur[i + 1]\n",
    "        \n",
    "    mergedbur = pd.merge(df1, df2, how='outer', on='sex', suffixes=('_'+ str(i), '_'+ str(i+1)))\n",
    "\n",
    "mergedbur"
   ]
  },
  {
   "cell_type": "code",
   "execution_count": null,
   "id": "d679bc8f",
   "metadata": {},
   "outputs": [],
   "source": [
    "mergedchrs.to_csv(r'/Users/homebase/Desktop/HIST3907/final-project/cleaned-data/number-of-christened.csv', index = False)\n",
    "mergedbur.to_csv(r'/Users/homebase/Desktop/HIST3907/final-project/cleaned-data/number-of-buried.csv', index = False)"
   ]
  }
 ],
 "metadata": {
  "kernelspec": {
   "display_name": "Python 3",
   "language": "python",
   "name": "python3"
  },
  "language_info": {
   "codemirror_mode": {
    "name": "ipython",
    "version": 3
   },
   "file_extension": ".py",
   "mimetype": "text/x-python",
   "name": "python",
   "nbconvert_exporter": "python",
   "pygments_lexer": "ipython3",
   "version": "3.8.5"
  }
 },
 "nbformat": 4,
 "nbformat_minor": 5
}
