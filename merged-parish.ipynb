{
 "cells": [
  {
   "cell_type": "code",
   "execution_count": null,
   "id": "fabfe572",
   "metadata": {},
   "outputs": [],
   "source": [
    "!pip3 install pandas\n",
    "!pip3 install numpy"
   ]
  },
  {
   "cell_type": "code",
   "execution_count": null,
   "id": "8c10e2cf",
   "metadata": {},
   "outputs": [],
   "source": [
    "import pandas as pd\n",
    "import numpy as np\n",
    "import glob\n",
    "\n",
    "pd.set_option('display.max_rows', 500)\n",
    "pd.set_option('display.max_columns', 5000)\n",
    "# pd.set_option('display.width', 1000)\n",
    "\n",
    "# load all files into list\n",
    "path = r'/Users/homebase/Desktop/HIST3907/final-project/data/burials' # use your path\n",
    "all_files = glob.glob(path + \"/*.csv\")\n",
    "all_files = sorted(all_files)\n",
    "\n",
    "filelist = []\n",
    "\n",
    "for filename in all_files:\n",
    "    df = pd.read_csv(filename, index_col=None, header=0)\n",
    "    filelist.append(df)\n",
    "\n",
    "# need move 3 and 6 down\n",
    "filelist"
   ]
  },
  {
   "cell_type": "code",
   "execution_count": null,
   "id": "8b457ae3",
   "metadata": {},
   "outputs": [],
   "source": [
    "len(filelist[0]['0'])\n",
    "\n",
    "# list of parishes\n",
    "listofburialdfs = []\n",
    "listofplaguedfs = []\n",
    "\n",
    "for i in range(len(filelist)):\n",
    "    par = []\n",
    "\n",
    "    for j in range(len(filelist[i]['0']) - 1):\n",
    "        par.append(filelist[i]['0'][j])\n",
    "\n",
    "    for j in range(len(filelist[i]['0']) - 1):\n",
    "        par.append(filelist[i]['3'][j])\n",
    "\n",
    "    for j in range(len(filelist[i]['0']) - 1):\n",
    "        par.append(filelist[i]['6'][j])\n",
    "\n",
    "    bur = []\n",
    "\n",
    "    for j in range(len(filelist[i]['0']) - 1):\n",
    "        bur.append(filelist[i]['1'][j])\n",
    "\n",
    "    for j in range(len(filelist[i]['0']) - 1):\n",
    "        bur.append(filelist[i]['4'][j])\n",
    "\n",
    "    for j in range(len(filelist[i]['0']) - 1):\n",
    "        bur.append(filelist[i]['7'][j])\n",
    "\n",
    "    plab = []\n",
    "\n",
    "    for j in range(len(filelist[i]['0']) - 1):\n",
    "        plab.append(filelist[i]['2'][j])\n",
    "\n",
    "    for j in range(len(filelist[i]['0']) - 1):\n",
    "        plab.append(filelist[i]['5'][j])\n",
    "\n",
    "    for j in range(len(filelist[i]['0']) - 1):\n",
    "        plab.append(filelist[i]['8'][j])\n",
    "\n",
    "    burialdata = pd.DataFrame(columns=['parish','burials'])\n",
    "    plaguedata = pd.DataFrame(columns=['parish','plague'])\n",
    "\n",
    "    for k in range(len(par)):\n",
    "        nr1 = {'parish': par[k], 'burials': bur[k]}\n",
    "        nr2 = {'parish': par[k], 'plague': plab[k]}\n",
    "        \n",
    "        burialdata = burialdata.append(nr1, ignore_index=True)\n",
    "        plaguedata = plaguedata.append(nr2, ignore_index=True)\n",
    "\n",
    "    \n",
    "    listofburialdfs.append(burialdata)\n",
    "    listofplaguedfs.append(plaguedata)"
   ]
  },
  {
   "cell_type": "code",
   "execution_count": null,
   "id": "8dd1e37a",
   "metadata": {},
   "outputs": [],
   "source": [
    "for i in range(len(listofburialdfs)):\n",
    "    listofburialdfs[i] = listofburialdfs[i].dropna(subset=['parish'])\n",
    "    \n",
    "for i in range(len(listofplaguedfs)):\n",
    "    listofplaguedfs[i] = listofplaguedfs[i].dropna(subset=['parish'])\n",
    "    "
   ]
  },
  {
   "cell_type": "code",
   "execution_count": null,
   "id": "94c71c68",
   "metadata": {},
   "outputs": [],
   "source": [
    "# merging data as seen in cod\n",
    "\n",
    "mergedburials = pd.DataFrame()\n",
    "\n",
    "for i in range(len(listofburialdfs)-1):\n",
    "    if i == 0:\n",
    "        df1 = listofburialdfs[i]\n",
    "        df2 = listofburialdfs[i + 1] \n",
    "    else:\n",
    "        df1 = mergedburials \n",
    "        df2 = listofburialdfs[i + 1]\n",
    "        \n",
    "    mergedburials = pd.merge(df1, df2, how='outer', on='parish', suffixes=('_'+ str(i), '_'+ str(i+1)))\n",
    "\n",
    "mergedburials"
   ]
  },
  {
   "cell_type": "code",
   "execution_count": null,
   "id": "26b23934",
   "metadata": {},
   "outputs": [],
   "source": [
    "mergedplague = pd.DataFrame()\n",
    "\n",
    "for i in range(len(listofplaguedfs)-1):\n",
    "    if i == 0:\n",
    "        df1 = listofplaguedfs[i]\n",
    "        df2 = listofplaguedfs[i + 1] \n",
    "    else:\n",
    "        df1 = mergedplague \n",
    "        df2 = listofplaguedfs[i + 1]\n",
    "        \n",
    "    mergedplague = pd.merge(df1, df2, how='outer', on='parish', suffixes=('_'+ str(i), '_'+ str(i+1)))\n",
    "\n",
    "mergedplague"
   ]
  },
  {
   "cell_type": "code",
   "execution_count": null,
   "id": "4c3dadd8",
   "metadata": {},
   "outputs": [],
   "source": [
    "# exporting to csv\n",
    "mergedburials.to_csv(r'/Users/homebase/Desktop/HIST3907/final-project/cleaned-data/burials-by-parish.csv', index = False)\n",
    "mergedplague.to_csv(r'/Users/homebase/Desktop/HIST3907/final-project/cleaned-data/plague-by-parish.csv', index = False)"
   ]
  }
 ],
 "metadata": {
  "kernelspec": {
   "display_name": "Python 3",
   "language": "python",
   "name": "python3"
  },
  "language_info": {
   "codemirror_mode": {
    "name": "ipython",
    "version": 3
   },
   "file_extension": ".py",
   "mimetype": "text/x-python",
   "name": "python",
   "nbconvert_exporter": "python",
   "pygments_lexer": "ipython3",
   "version": "3.8.5"
  }
 },
 "nbformat": 4,
 "nbformat_minor": 5
}
